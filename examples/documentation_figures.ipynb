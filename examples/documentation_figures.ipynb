{
 "cells": [
  {
   "cell_type": "code",
   "execution_count": null,
   "metadata": {},
   "outputs": [],
   "source": [
    "%matplotlib widget\n",
    "\n",
    "\n",
    "import albumentations as A\n",
    "import matplotlib.pyplot as plt\n",
    "import numpy as np\n",
    "import skimage\n",
    "\n",
    "from usaugment import BilateralFilter, DepthAttenuation, GaussianShadow, HazeArtifact\n",
    "\n",
    "IMAGE_PATH = \"byra2018_liver_ultrasound.png\"\n",
    "SCAN_MASK_PATH = \"byra2018_liver_ultrasound_mask.png\""
   ]
  },
  {
   "cell_type": "code",
   "execution_count": null,
   "metadata": {},
   "outputs": [],
   "source": [
    "np.random.seed(3)\n",
    "\n",
    "image = skimage.io.imread(IMAGE_PATH) / 255.0\n",
    "image = np.stack([image, image, image], axis=-1)\n",
    "scan_mask = skimage.io.imread(SCAN_MASK_PATH)\n",
    "\n",
    "augmentations = [\n",
    "    (\"Original\", A.NoOp(p=1.0)),\n",
    "    (\"Bilateral Filter\", BilateralFilter(p=1.0)),\n",
    "    (\"Depth Attenuation\", DepthAttenuation(p=1.0, attenuation_rate=1.0)),\n",
    "    (\"Gaussian Shadow\", GaussianShadow(p=1.0, strength=0.8, sigma_x=0.2, sigma_y=0.1)),\n",
    "    (\"Haze Artifact\", HazeArtifact(p=1.0, radius=0.5, sigma=0.05)),\n",
    "]\n",
    "\n",
    "fig, axes = plt.subplots(1, 5, sharey=True, figsize=(10, 2))\n",
    "for augmentation, ax in zip(augmentations, axes.flat):\n",
    "    augmented_image = augmentation[1].apply(img=image, scan_mask=scan_mask)\n",
    "    ax.set_title(augmentation[0])\n",
    "    ax.imshow(\n",
    "        augmented_image,\n",
    "        cmap=\"gray\",\n",
    "        vmin=0,\n",
    "        vmax=1,\n",
    "    )\n",
    "    ax.axis(\"off\")\n",
    "\n",
    "plt.tight_layout()\n",
    "plt.savefig(\"../figures/readme_banner.png\")\n",
    "plt.show()"
   ]
  },
  {
   "cell_type": "code",
   "execution_count": null,
   "metadata": {},
   "outputs": [],
   "source": []
  }
 ],
 "metadata": {
  "kernelspec": {
   "display_name": "usaugment-dev",
   "language": "python",
   "name": "python3"
  },
  "language_info": {
   "codemirror_mode": {
    "name": "ipython",
    "version": 3
   },
   "file_extension": ".py",
   "mimetype": "text/x-python",
   "name": "python",
   "nbconvert_exporter": "python",
   "pygments_lexer": "ipython3",
   "version": "3.11.2"
  }
 },
 "nbformat": 4,
 "nbformat_minor": 2
}
